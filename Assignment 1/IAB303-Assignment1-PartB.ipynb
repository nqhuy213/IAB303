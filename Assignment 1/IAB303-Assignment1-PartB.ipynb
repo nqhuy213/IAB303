{
 "cells": [
  {
   "cell_type": "markdown",
   "metadata": {},
   "source": [
    "# IAB303 - Assignment 1 - Part B\n",
    "\n",
    "## Foundational Techniques\n",
    "\n",
    "#### INSTRUCTIONS\n",
    "\n",
    "1. Complete the section below with your personal details (and run the cell)\n",
    "2. Complete the full **QDAVI** data analytics cycle for both questions. Ensure that you complete the cycle by addressing the question with your insights.\n",
    "3. Ensure that you use markdown cells to document your thinking and decision making for each stage of the process. Be clear on how your decisions are working towards addressing the question.\n",
    "4. Ensure that your code runs without errors, and that your results are appropriate for the question.\n",
    "5. Use comments in your code to explain what you are doing"
   ]
  },
  {
   "cell_type": "code",
   "execution_count": 1,
   "metadata": {},
   "outputs": [
    {
     "data": {
      "text/html": [
       "<h1>Quoc Huy Nguyen (n10289020)</h1>"
      ],
      "text/plain": [
       "<IPython.core.display.HTML object>"
      ]
     },
     "metadata": {},
     "output_type": "display_data"
    }
   ],
   "source": [
    "# Complete the following cell with your details and run to produce your personalised header for this assignment\n",
    "\n",
    "from IPython.core.display import display, HTML\n",
    "\n",
    "first_name = 'Quoc Huy'\n",
    "last_name = 'Nguyen'\n",
    "student_number = 'n10289020'\n",
    "\n",
    "personal_header = \"<h1>\"+first_name+\" \"+last_name+\" (\"+student_number+\")</h1>\"\n",
    "display(HTML(personal_header))"
   ]
  },
  {
   "cell_type": "markdown",
   "metadata": {},
   "source": [
    "---\n",
    "## BUSINESS CONCERN\n",
    "\n",
    "An eco-tourism business is considering starting a tour for spotting wild Australian native wildlife around Brisbane. They are thinking that Koala spotting maybe a good way to start.\n",
    "\n",
    "## QUESTION 1\n",
    "\n",
    "#### Question: \n",
    "\n",
    "Using the occurance records from Atlas of Living Australia, perform an appropriate search and download a CSV file to analyse for recent sightings of Koalas around Brisbane. Use Data Analytics to answer the following question: Is it possible to find Koalas reliably around Brisbane in order to support a tour? \n",
    "\n",
    "#### Data:\n",
    "\n",
    "[Atlas of Living Australia](https://biocache.ala.org.au/#tab_simpleSearch)\n",
    "\n",
    "*To download data, login with AAF, QUT as organisation, and select Education as reason for use.*\n"
   ]
  },
  {
   "cell_type": "code",
   "execution_count": 10,
   "metadata": {},
   "outputs": [],
   "source": [
    "# import libraries for this question here\n",
    "import pandas as pd\n",
    "import numpy as np\n",
    "import matplotlib.pyplot as plt\n",
    "from matplotlib.pyplot import figure"
   ]
  },
  {
   "cell_type": "markdown",
   "metadata": {},
   "source": [
    "### 1.1 Question"
   ]
  },
  {
   "cell_type": "markdown",
   "metadata": {},
   "source": [
    "The business wants see if there is a sufficient ocurrences of koalas around Brisbane to start a wild Australian native wildlife spotting tour. The strategy is to compare the number koala spotted in Brisbane with other nearby regions. The question can be broken down into small parts:\n",
    "\n",
    "- What is the proportion of koala spotted occurances in Brisbane compared to other regions in Queensland?\n",
    "- Can koalas in Brisbane be spotted regularly? Which months of the year that koalas are spotted the most?\n",
    "\n",
    "Anwsering these questions can help decide whether or not to establish the tour and analyze the time and location factors."
   ]
  },
  {
   "cell_type": "markdown",
   "metadata": {},
   "source": [
    "### 1.2 Data"
   ]
  },
  {
   "cell_type": "code",
   "execution_count": 3,
   "metadata": {},
   "outputs": [
    {
     "name": "stderr",
     "output_type": "stream",
     "text": [
      "D:\\Things\\Anaconda\\lib\\site-packages\\IPython\\core\\interactiveshell.py:3165: DtypeWarning: Columns (2,3,5,7,8,9,10,11,12,13,14,15,19,20,21,22,23,27,28,29,30,33,35,38,39,42,43,46,49,50,54,55,56,57,61,62,63,71,72,74,84,90,92,94,95,96,97,99,101,102,103,106,107,108,109,110,111,112,113,114,118,121,123,131,132,137,143,151,152,154,165) have mixed types.Specify dtype option on import or set low_memory=False.\n",
      "  has_raised = await self.run_ast_nodes(code_ast.body, cell_name,\n"
     ]
    }
   ],
   "source": [
    "# Import the data\n",
    "# Clean/prepare the data for analysis\n",
    "occurences_df = pd.read_csv('records-2021-08-29.csv')"
   ]
  },
  {
   "cell_type": "code",
   "execution_count": 4,
   "metadata": {},
   "outputs": [
    {
     "data": {
      "text/html": [
       "<div>\n",
       "<style scoped>\n",
       "    .dataframe tbody tr th:only-of-type {\n",
       "        vertical-align: middle;\n",
       "    }\n",
       "\n",
       "    .dataframe tbody tr th {\n",
       "        vertical-align: top;\n",
       "    }\n",
       "\n",
       "    .dataframe thead th {\n",
       "        text-align: right;\n",
       "    }\n",
       "</style>\n",
       "<table border=\"1\" class=\"dataframe\">\n",
       "  <thead>\n",
       "    <tr style=\"text-align: right;\">\n",
       "      <th></th>\n",
       "      <th>dataResourceUid</th>\n",
       "      <th>images</th>\n",
       "      <th>dcterms:modified</th>\n",
       "      <th>dcterms:language</th>\n",
       "      <th>dcterms:license</th>\n",
       "      <th>rightsHolder</th>\n",
       "      <th>dcterms:accessRights</th>\n",
       "      <th>dcterms:bibliographicCitation</th>\n",
       "      <th>references</th>\n",
       "      <th>institutionID</th>\n",
       "      <th>...</th>\n",
       "      <th>verbatimScientificName</th>\n",
       "      <th>verbatimContinent</th>\n",
       "      <th>measurementID</th>\n",
       "      <th>measurementType</th>\n",
       "      <th>measurementUnit</th>\n",
       "      <th>measurementDeterminedBy</th>\n",
       "      <th>measurementAccuracy</th>\n",
       "      <th>relatedResourceID</th>\n",
       "      <th>images.1</th>\n",
       "      <th>dcterms:type</th>\n",
       "    </tr>\n",
       "  </thead>\n",
       "  <tbody>\n",
       "    <tr>\n",
       "      <th>0</th>\n",
       "      <td>dr1008</td>\n",
       "      <td>NaN</td>\n",
       "      <td>NaN</td>\n",
       "      <td>NaN</td>\n",
       "      <td>CC-BY</td>\n",
       "      <td>NaN</td>\n",
       "      <td>NaN</td>\n",
       "      <td>NaN</td>\n",
       "      <td>NaN</td>\n",
       "      <td>NaN</td>\n",
       "      <td>...</td>\n",
       "      <td>Phascolarctos cinereus</td>\n",
       "      <td>NaN</td>\n",
       "      <td>NaN</td>\n",
       "      <td>NaN</td>\n",
       "      <td>NaN</td>\n",
       "      <td>NaN</td>\n",
       "      <td>NaN</td>\n",
       "      <td>NaN</td>\n",
       "      <td>NaN</td>\n",
       "      <td>NaN</td>\n",
       "    </tr>\n",
       "    <tr>\n",
       "      <th>1</th>\n",
       "      <td>dr1008</td>\n",
       "      <td>NaN</td>\n",
       "      <td>NaN</td>\n",
       "      <td>NaN</td>\n",
       "      <td>CC-BY</td>\n",
       "      <td>NaN</td>\n",
       "      <td>NaN</td>\n",
       "      <td>NaN</td>\n",
       "      <td>NaN</td>\n",
       "      <td>NaN</td>\n",
       "      <td>...</td>\n",
       "      <td>Phascolarctos cinereus</td>\n",
       "      <td>NaN</td>\n",
       "      <td>NaN</td>\n",
       "      <td>NaN</td>\n",
       "      <td>NaN</td>\n",
       "      <td>NaN</td>\n",
       "      <td>NaN</td>\n",
       "      <td>NaN</td>\n",
       "      <td>NaN</td>\n",
       "      <td>NaN</td>\n",
       "    </tr>\n",
       "    <tr>\n",
       "      <th>2</th>\n",
       "      <td>dr1132</td>\n",
       "      <td>NaN</td>\n",
       "      <td>NaN</td>\n",
       "      <td>NaN</td>\n",
       "      <td>CC-BY 4.0 (Int)</td>\n",
       "      <td>NaN</td>\n",
       "      <td>NaN</td>\n",
       "      <td>NaN</td>\n",
       "      <td>NaN</td>\n",
       "      <td>2841</td>\n",
       "      <td>...</td>\n",
       "      <td>Phascolarctos cinereus</td>\n",
       "      <td>NaN</td>\n",
       "      <td>NaN</td>\n",
       "      <td>NaN</td>\n",
       "      <td>NaN</td>\n",
       "      <td>NaN</td>\n",
       "      <td>NaN</td>\n",
       "      <td>NaN</td>\n",
       "      <td>NaN</td>\n",
       "      <td>NaN</td>\n",
       "    </tr>\n",
       "    <tr>\n",
       "      <th>3</th>\n",
       "      <td>dr1132</td>\n",
       "      <td>NaN</td>\n",
       "      <td>NaN</td>\n",
       "      <td>NaN</td>\n",
       "      <td>CC-BY 4.0 (Int)</td>\n",
       "      <td>NaN</td>\n",
       "      <td>NaN</td>\n",
       "      <td>NaN</td>\n",
       "      <td>NaN</td>\n",
       "      <td>NaN</td>\n",
       "      <td>...</td>\n",
       "      <td>Phascolarctos cinereus</td>\n",
       "      <td>NaN</td>\n",
       "      <td>NaN</td>\n",
       "      <td>NaN</td>\n",
       "      <td>NaN</td>\n",
       "      <td>NaN</td>\n",
       "      <td>NaN</td>\n",
       "      <td>NaN</td>\n",
       "      <td>NaN</td>\n",
       "      <td>NaN</td>\n",
       "    </tr>\n",
       "    <tr>\n",
       "      <th>4</th>\n",
       "      <td>dr1132</td>\n",
       "      <td>NaN</td>\n",
       "      <td>NaN</td>\n",
       "      <td>NaN</td>\n",
       "      <td>CC-BY 4.0 (Int)</td>\n",
       "      <td>NaN</td>\n",
       "      <td>NaN</td>\n",
       "      <td>NaN</td>\n",
       "      <td>NaN</td>\n",
       "      <td>1881</td>\n",
       "      <td>...</td>\n",
       "      <td>Phascolarctos cinereus</td>\n",
       "      <td>NaN</td>\n",
       "      <td>NaN</td>\n",
       "      <td>NaN</td>\n",
       "      <td>NaN</td>\n",
       "      <td>NaN</td>\n",
       "      <td>NaN</td>\n",
       "      <td>NaN</td>\n",
       "      <td>NaN</td>\n",
       "      <td>NaN</td>\n",
       "    </tr>\n",
       "  </tbody>\n",
       "</table>\n",
       "<p>5 rows × 166 columns</p>\n",
       "</div>"
      ],
      "text/plain": [
       "  dataResourceUid images dcterms:modified dcterms:language  dcterms:license  \\\n",
       "0          dr1008    NaN              NaN              NaN            CC-BY   \n",
       "1          dr1008    NaN              NaN              NaN            CC-BY   \n",
       "2          dr1132    NaN              NaN              NaN  CC-BY 4.0 (Int)   \n",
       "3          dr1132    NaN              NaN              NaN  CC-BY 4.0 (Int)   \n",
       "4          dr1132    NaN              NaN              NaN  CC-BY 4.0 (Int)   \n",
       "\n",
       "  rightsHolder  dcterms:accessRights dcterms:bibliographicCitation references  \\\n",
       "0          NaN                   NaN                           NaN        NaN   \n",
       "1          NaN                   NaN                           NaN        NaN   \n",
       "2          NaN                   NaN                           NaN        NaN   \n",
       "3          NaN                   NaN                           NaN        NaN   \n",
       "4          NaN                   NaN                           NaN        NaN   \n",
       "\n",
       "  institutionID  ...  verbatimScientificName verbatimContinent measurementID  \\\n",
       "0           NaN  ...  Phascolarctos cinereus               NaN           NaN   \n",
       "1           NaN  ...  Phascolarctos cinereus               NaN           NaN   \n",
       "2          2841  ...  Phascolarctos cinereus               NaN           NaN   \n",
       "3           NaN  ...  Phascolarctos cinereus               NaN           NaN   \n",
       "4          1881  ...  Phascolarctos cinereus               NaN           NaN   \n",
       "\n",
       "  measurementType measurementUnit measurementDeterminedBy measurementAccuracy  \\\n",
       "0             NaN             NaN                     NaN                 NaN   \n",
       "1             NaN             NaN                     NaN                 NaN   \n",
       "2             NaN             NaN                     NaN                 NaN   \n",
       "3             NaN             NaN                     NaN                 NaN   \n",
       "4             NaN             NaN                     NaN                 NaN   \n",
       "\n",
       "   relatedResourceID  images.1 dcterms:type  \n",
       "0                NaN       NaN          NaN  \n",
       "1                NaN       NaN          NaN  \n",
       "2                NaN       NaN          NaN  \n",
       "3                NaN       NaN          NaN  \n",
       "4                NaN       NaN          NaN  \n",
       "\n",
       "[5 rows x 166 columns]"
      ]
     },
     "execution_count": 4,
     "metadata": {},
     "output_type": "execute_result"
    }
   ],
   "source": [
    "occurences_df.head()"
   ]
  },
  {
   "cell_type": "markdown",
   "metadata": {},
   "source": [
    "The dataset contains the occurence records of Koalas in Queensland. There are **18051** rows with **166** columns. The description of each columns can be found in the file **heading.csv**. In our analysis, we only care about the coordinates, and date time of the human observations ocurrences."
   ]
  },
  {
   "cell_type": "code",
   "execution_count": 5,
   "metadata": {},
   "outputs": [
    {
     "data": {
      "text/plain": [
       "(15892, 6)"
      ]
     },
     "execution_count": 5,
     "metadata": {},
     "output_type": "execute_result"
    }
   ],
   "source": [
    "rows = ['year', 'month', 'day', 'decimalLatitude', 'decimalLongitude', 'basisOfRecord']\n",
    "cleaned_df = occurences_df[rows]\n",
    "cleaned_df = cleaned_df.dropna(subset=['decimalLatitude', 'decimalLongitude'])\n",
    "# Only human observation\n",
    "cleaned_df = cleaned_df[(cleaned_df['basisOfRecord'] == 'HUMAN_OBSERVATION') | (cleaned_df['basisOfRecord'] == 'OBSERVATION')]\n",
    "cleaned_df.shape"
   ]
  },
  {
   "cell_type": "markdown",
   "metadata": {},
   "source": [
    "### 1.3 Analysis"
   ]
  },
  {
   "cell_type": "code",
   "execution_count": 6,
   "metadata": {},
   "outputs": [
    {
     "data": {
      "text/plain": [
       "month\n",
       "1.0      360\n",
       "2.0      381\n",
       "3.0      303\n",
       "4.0      619\n",
       "5.0      585\n",
       "6.0      319\n",
       "7.0      507\n",
       "8.0      544\n",
       "9.0      474\n",
       "10.0     974\n",
       "11.0    1090\n",
       "12.0     361\n",
       "Name: month, dtype: int64"
      ]
     },
     "execution_count": 6,
     "metadata": {},
     "output_type": "execute_result"
    }
   ],
   "source": [
    "# Analyse the data - ensure that you at least use the required technique\n",
    "# Which month is best to spot koalas in Brisbane?\n",
    "month_df = cleaned_df.groupby(['month'])['month'].count()\n",
    "month_df"
   ]
  },
  {
   "cell_type": "markdown",
   "metadata": {},
   "source": [
    "### 1.4 Visualisation"
   ]
  },
  {
   "cell_type": "code",
   "execution_count": 7,
   "metadata": {},
   "outputs": [
    {
     "data": {
      "text/plain": [
       "Text(0.5, 1.0, 'Figure 1: Occurence of Koala witnessed by human in Queensland')"
      ]
     },
     "execution_count": 7,
     "metadata": {},
     "output_type": "execute_result"
    },
    {
     "data": {
      "image/png": "[encoded data removed]",
      "text/plain": [
       "<Figure size 800x800 with 1 Axes>"
      ]
     },
     "metadata": {
      "needs_background": "light"
     },
     "output_type": "display_data"
    }
   ],
   "source": [
    "Brisbane = [-27.470125, 153.021072] # Coordinates of Brisbane\n",
    "GoldCoast = [-28.016666, 153.399994] # Coordinates of Gold Coast\n",
    "figure(figsize=(10, 10), dpi=80)\n",
    "plt.scatter(x=cleaned_df['decimalLongitude'], y=cleaned_df['decimalLatitude'], marker='x')\n",
    "plt.scatter(y=Brisbane[0], x=Brisbane[1], color='red', s=100)\n",
    "plt.annotate('Brisbane', (Brisbane[1], Brisbane[0]), c='red', textcoords=\"offset points\", xytext=(0,np.sqrt(500)/2), fontsize=20)\n",
    "plt.scatter(y=GoldCoast[0], x=GoldCoast[1], color='red', s=100)\n",
    "plt.annotate('Gold Coast', (GoldCoast[1], GoldCoast[0]), c='red', textcoords=\"offset points\", xytext=(0,-np.sqrt(1500)/2), fontsize=20)\n",
    "plt.xlabel('Longitude')\n",
    "plt.ylabel('Latitude')\n",
    "plt.title('Figure 1: Occurence of Koala witnessed by human in Queensland')"
   ]
  },
  {
   "cell_type": "code",
   "execution_count": 8,
   "metadata": {},
   "outputs": [
    {
     "data": {
      "text/plain": [
       "Text(0.5, 1.0, 'Figure 2: Monthly occurences of Koala in Brisbane')"
      ]
     },
     "execution_count": 8,
     "metadata": {},
     "output_type": "execute_result"
    },
    {
     "data": {
      "image/png": "[encoded data removed]",
      "text/plain": [
       "<Figure size 720x360 with 1 Axes>"
      ]
     },
     "metadata": {
      "needs_background": "light"
     },
     "output_type": "display_data"
    }
   ],
   "source": [
    "# Visualise the results\n",
    "# Monthly count\n",
    "month_df.plot(kind='bar',figsize=(10,5),legend=None)\n",
    "plt.xlabel('Month')\n",
    "plt.title('Figure 2: Monthly occurences of Koala in Brisbane')"
   ]
  },
  {
   "cell_type": "markdown",
   "metadata": {},
   "source": [
    "### 1.5 Insight"
   ]
  },
  {
   "cell_type": "markdown",
   "metadata": {},
   "source": [
    "As we can see in the **Figure 1**, most of the Koala human observations are highly concentrated in Brisbane and Gold Coast areas. This indicates that there might be sufficient occurences so that the business can establish a tour in Brisbane. Gold Coast can also be another good options. \n",
    "\n",
    "**Figure 2** shows that October and November are the months that observe Koala the most. April an May can also be considered, but the likelihood might decrease. \n",
    "\n",
    "Overall, the business can start a tour around Brisbane area or Gold Coast in October or November to maximize the probability of spotting koalas."
   ]
  },
  {
   "cell_type": "markdown",
   "metadata": {},
   "source": [
    "---\n",
    "## QUESTION 2\n",
    "\n",
    "#### Question: \n",
    "Using the *Twitter* API, search for who is using `#koala` and address the question: Who might be potential promotors of the business or possible competitors? \n",
    "\n",
    "#### Data access:\n",
    "[Twitter Development Portal](https://developer.twitter.com/en/portal/projects-and-apps)\n"
   ]
  },
  {
   "cell_type": "code",
   "execution_count": 2,
   "metadata": {},
   "outputs": [],
   "source": [
    "# import libraries for this question here\n",
    "import json\n",
    "import tweepy"
   ]
  },
  {
   "cell_type": "markdown",
   "metadata": {},
   "source": [
    "### 2.1 Question"
   ]
  },
  {
   "cell_type": "markdown",
   "metadata": {},
   "source": [
    "The business wants to find the potential promoters by extract insights from users who have tweeted about koala. In this analysis, we will select promoters based on their activity and connections in Twitter. A good candidate should have sufficient number of followers with a genuine profile proven by number of tweets, friends, and favourites they have."
   ]
  },
  {
   "cell_type": "markdown",
   "metadata": {},
   "source": [
    "### 2.2 Data"
   ]
  },
  {
   "cell_type": "code",
   "execution_count": 3,
   "metadata": {},
   "outputs": [],
   "source": [
    "# Access the data via API\n",
    "# Clean/prepare the data for analysis\n",
    "my_secrets = \"twitter_credentials.json\"\n",
    "with open(my_secrets,'r') as file:\n",
    "    credentials = json.load(file)\n",
    "auth = tweepy.OAuthHandler(credentials['api_key'], credentials['api_secret_key'])\n",
    "auth.set_access_token(credentials['access_token'], credentials['access_token_secret'])\n",
    "twitter = tweepy.API(auth)"
   ]
  },
  {
   "cell_type": "code",
   "execution_count": 4,
   "metadata": {},
   "outputs": [],
   "source": [
    "tweets = []\n",
    "# --- This should only srun once because the result is different everytime.\n",
    "\n",
    "# for status in tweepy.Cursor(twitter.search, q=\"#koala\",count=100, lang = \"en\", include_entities=True).items(1000):\n",
    "#     tweets.append(status._json)"
   ]
  },
  {
   "cell_type": "code",
   "execution_count": 7,
   "metadata": {},
   "outputs": [],
   "source": [
    "## Save tweets to json file\n",
    "output = {}\n",
    "output['tweets'] = tweets\n",
    "with open('tweets.json', 'w') as outfile:\n",
    "    json.dump(output, outfile)"
   ]
  },
  {
   "cell_type": "markdown",
   "metadata": {},
   "source": [
    "The Twitter API gives us 1000 tweets that has the tag **#koala**. Based on the assumption that people tweeted about this might be interested in koala, we collect the profile of each user."
   ]
  },
  {
   "cell_type": "code",
   "execution_count": 11,
   "metadata": {},
   "outputs": [],
   "source": [
    "## Read tweets from json\n",
    "with open('tweets.json') as json_file:\n",
    "    data = json.load(json_file)\n",
    "    tweets = data['tweets']"
   ]
  },
  {
   "cell_type": "code",
   "execution_count": 12,
   "metadata": {},
   "outputs": [],
   "source": [
    "df = {\n",
    "    'screen_name':[],\n",
    "    'location': [],\n",
    "    'followers_count': [],\n",
    "    'friends_count': [],\n",
    "    'favourites_count': [],\n",
    "    'verified': [],\n",
    "    'statuses_count':[]\n",
    "}\n",
    "for tweet in tweets:\n",
    "    df['screen_name'].append(tweet['user']['screen_name'])\n",
    "    df['location'].append(tweet['user']['location'])\n",
    "    df['followers_count'].append(tweet['user']['followers_count'])\n",
    "    df['friends_count'].append(tweet['user']['friends_count'])\n",
    "    df['favourites_count'].append(tweet['user']['favourites_count'])\n",
    "    df['verified'].append(tweet['user']['verified'])\n",
    "    df['statuses_count'].append(tweet['user']['statuses_count'])\n",
    "user_df = pd.DataFrame(df)"
   ]
  },
  {
   "cell_type": "code",
   "execution_count": 13,
   "metadata": {},
   "outputs": [
    {
     "data": {
      "text/plain": [
       "(1000, 7)"
      ]
     },
     "execution_count": 13,
     "metadata": {},
     "output_type": "execute_result"
    }
   ],
   "source": [
    "user_df.shape"
   ]
  },
  {
   "cell_type": "code",
   "execution_count": 14,
   "metadata": {},
   "outputs": [
    {
     "data": {
      "text/html": [
       "<div>\n",
       "<style scoped>\n",
       "    .dataframe tbody tr th:only-of-type {\n",
       "        vertical-align: middle;\n",
       "    }\n",
       "\n",
       "    .dataframe tbody tr th {\n",
       "        vertical-align: top;\n",
       "    }\n",
       "\n",
       "    .dataframe thead th {\n",
       "        text-align: right;\n",
       "    }\n",
       "</style>\n",
       "<table border=\"1\" class=\"dataframe\">\n",
       "  <thead>\n",
       "    <tr style=\"text-align: right;\">\n",
       "      <th></th>\n",
       "      <th>screen_name</th>\n",
       "      <th>location</th>\n",
       "      <th>followers_count</th>\n",
       "      <th>friends_count</th>\n",
       "      <th>favourites_count</th>\n",
       "      <th>verified</th>\n",
       "      <th>statuses_count</th>\n",
       "    </tr>\n",
       "  </thead>\n",
       "  <tbody>\n",
       "    <tr>\n",
       "      <th>0</th>\n",
       "      <td>steve_7an</td>\n",
       "      <td>singapore</td>\n",
       "      <td>1093</td>\n",
       "      <td>3354</td>\n",
       "      <td>29100</td>\n",
       "      <td>False</td>\n",
       "      <td>31532</td>\n",
       "    </tr>\n",
       "    <tr>\n",
       "      <th>1</th>\n",
       "      <td>johnnie6111</td>\n",
       "      <td></td>\n",
       "      <td>1647</td>\n",
       "      <td>1250</td>\n",
       "      <td>17982</td>\n",
       "      <td>False</td>\n",
       "      <td>8657</td>\n",
       "    </tr>\n",
       "    <tr>\n",
       "      <th>2</th>\n",
       "      <td>millennialmaxi</td>\n",
       "      <td></td>\n",
       "      <td>406</td>\n",
       "      <td>642</td>\n",
       "      <td>493</td>\n",
       "      <td>False</td>\n",
       "      <td>730</td>\n",
       "    </tr>\n",
       "    <tr>\n",
       "      <th>3</th>\n",
       "      <td>JamF110</td>\n",
       "      <td></td>\n",
       "      <td>185</td>\n",
       "      <td>341</td>\n",
       "      <td>133</td>\n",
       "      <td>False</td>\n",
       "      <td>146</td>\n",
       "    </tr>\n",
       "    <tr>\n",
       "      <th>4</th>\n",
       "      <td>jacknjill</td>\n",
       "      <td>Australia, UK, USA</td>\n",
       "      <td>3373</td>\n",
       "      <td>1204</td>\n",
       "      <td>598</td>\n",
       "      <td>False</td>\n",
       "      <td>2547</td>\n",
       "    </tr>\n",
       "  </tbody>\n",
       "</table>\n",
       "</div>"
      ],
      "text/plain": [
       "      screen_name            location  followers_count  friends_count  \\\n",
       "0       steve_7an           singapore             1093           3354   \n",
       "1     johnnie6111                                 1647           1250   \n",
       "2  millennialmaxi                                  406            642   \n",
       "3         JamF110                                  185            341   \n",
       "4       jacknjill  Australia, UK, USA             3373           1204   \n",
       "\n",
       "   favourites_count  verified  statuses_count  \n",
       "0             29100     False           31532  \n",
       "1             17982     False            8657  \n",
       "2               493     False             730  \n",
       "3               133     False             146  \n",
       "4               598     False            2547  "
      ]
     },
     "execution_count": 14,
     "metadata": {},
     "output_type": "execute_result"
    }
   ],
   "source": [
    "user_df.head()"
   ]
  },
  {
   "cell_type": "code",
   "execution_count": 15,
   "metadata": {},
   "outputs": [
    {
     "data": {
      "text/plain": [
       "count      1000.000000\n",
       "mean       4220.463000\n",
       "std       13666.000345\n",
       "min           0.000000\n",
       "25%         165.500000\n",
       "50%         643.500000\n",
       "75%        2165.250000\n",
       "max      183785.000000\n",
       "Name: followers_count, dtype: float64"
      ]
     },
     "execution_count": 15,
     "metadata": {},
     "output_type": "execute_result"
    }
   ],
   "source": [
    "user_df['followers_count'].describe()"
   ]
  },
  {
   "cell_type": "markdown",
   "metadata": {},
   "source": [
    "### 2.3 Analysis"
   ]
  },
  {
   "cell_type": "code",
   "execution_count": 16,
   "metadata": {},
   "outputs": [
    {
     "data": {
      "text/html": [
       "<div>\n",
       "<style scoped>\n",
       "    .dataframe tbody tr th:only-of-type {\n",
       "        vertical-align: middle;\n",
       "    }\n",
       "\n",
       "    .dataframe tbody tr th {\n",
       "        vertical-align: top;\n",
       "    }\n",
       "\n",
       "    .dataframe thead th {\n",
       "        text-align: right;\n",
       "    }\n",
       "</style>\n",
       "<table border=\"1\" class=\"dataframe\">\n",
       "  <thead>\n",
       "    <tr style=\"text-align: right;\">\n",
       "      <th></th>\n",
       "      <th>screen_name</th>\n",
       "      <th>location</th>\n",
       "      <th>followers_count</th>\n",
       "      <th>friends_count</th>\n",
       "      <th>favourites_count</th>\n",
       "      <th>verified</th>\n",
       "      <th>statuses_count</th>\n",
       "    </tr>\n",
       "  </thead>\n",
       "  <tbody>\n",
       "    <tr>\n",
       "      <th>766</th>\n",
       "      <td>peac4love</td>\n",
       "      <td></td>\n",
       "      <td>183785</td>\n",
       "      <td>183501</td>\n",
       "      <td>889709</td>\n",
       "      <td>False</td>\n",
       "      <td>668581</td>\n",
       "    </tr>\n",
       "    <tr>\n",
       "      <th>267</th>\n",
       "      <td>myworld2121</td>\n",
       "      <td>Toscana, Italia</td>\n",
       "      <td>136272</td>\n",
       "      <td>89607</td>\n",
       "      <td>74362</td>\n",
       "      <td>False</td>\n",
       "      <td>85459</td>\n",
       "    </tr>\n",
       "    <tr>\n",
       "      <th>417</th>\n",
       "      <td>AndreiAndrei63</td>\n",
       "      <td></td>\n",
       "      <td>132938</td>\n",
       "      <td>103026</td>\n",
       "      <td>529646</td>\n",
       "      <td>False</td>\n",
       "      <td>1103937</td>\n",
       "    </tr>\n",
       "    <tr>\n",
       "      <th>190</th>\n",
       "      <td>AndreiAndrei63</td>\n",
       "      <td></td>\n",
       "      <td>132938</td>\n",
       "      <td>103026</td>\n",
       "      <td>529646</td>\n",
       "      <td>False</td>\n",
       "      <td>1103937</td>\n",
       "    </tr>\n",
       "    <tr>\n",
       "      <th>767</th>\n",
       "      <td>AlteaFerrari</td>\n",
       "      <td></td>\n",
       "      <td>110742</td>\n",
       "      <td>105175</td>\n",
       "      <td>591773</td>\n",
       "      <td>False</td>\n",
       "      <td>373122</td>\n",
       "    </tr>\n",
       "    <tr>\n",
       "      <th>210</th>\n",
       "      <td>fukushima36</td>\n",
       "      <td>神田ふくしま歯科</td>\n",
       "      <td>96991</td>\n",
       "      <td>105251</td>\n",
       "      <td>524756</td>\n",
       "      <td>False</td>\n",
       "      <td>481872</td>\n",
       "    </tr>\n",
       "    <tr>\n",
       "      <th>105</th>\n",
       "      <td>BgSnezana</td>\n",
       "      <td>Europe</td>\n",
       "      <td>85900</td>\n",
       "      <td>81994</td>\n",
       "      <td>352505</td>\n",
       "      <td>False</td>\n",
       "      <td>422354</td>\n",
       "    </tr>\n",
       "    <tr>\n",
       "      <th>263</th>\n",
       "      <td>SonokHakan</td>\n",
       "      <td>Планета сатурн</td>\n",
       "      <td>69307</td>\n",
       "      <td>75868</td>\n",
       "      <td>146132</td>\n",
       "      <td>False</td>\n",
       "      <td>839174</td>\n",
       "    </tr>\n",
       "    <tr>\n",
       "      <th>765</th>\n",
       "      <td>SonokHakan</td>\n",
       "      <td>Планета сатурн</td>\n",
       "      <td>69307</td>\n",
       "      <td>75868</td>\n",
       "      <td>146132</td>\n",
       "      <td>False</td>\n",
       "      <td>839174</td>\n",
       "    </tr>\n",
       "    <tr>\n",
       "      <th>841</th>\n",
       "      <td>marie_nassar</td>\n",
       "      <td></td>\n",
       "      <td>69293</td>\n",
       "      <td>60006</td>\n",
       "      <td>377764</td>\n",
       "      <td>False</td>\n",
       "      <td>622226</td>\n",
       "    </tr>\n",
       "  </tbody>\n",
       "</table>\n",
       "</div>"
      ],
      "text/plain": [
       "        screen_name         location  followers_count  friends_count  \\\n",
       "766       peac4love                            183785         183501   \n",
       "267     myworld2121  Toscana, Italia           136272          89607   \n",
       "417  AndreiAndrei63                            132938         103026   \n",
       "190  AndreiAndrei63                            132938         103026   \n",
       "767    AlteaFerrari                            110742         105175   \n",
       "210     fukushima36         神田ふくしま歯科            96991         105251   \n",
       "105       BgSnezana           Europe            85900          81994   \n",
       "263      SonokHakan   Планета сатурн            69307          75868   \n",
       "765      SonokHakan   Планета сатурн            69307          75868   \n",
       "841    marie_nassar                             69293          60006   \n",
       "\n",
       "     favourites_count  verified  statuses_count  \n",
       "766            889709     False          668581  \n",
       "267             74362     False           85459  \n",
       "417            529646     False         1103937  \n",
       "190            529646     False         1103937  \n",
       "767            591773     False          373122  \n",
       "210            524756     False          481872  \n",
       "105            352505     False          422354  \n",
       "263            146132     False          839174  \n",
       "765            146132     False          839174  \n",
       "841            377764     False          622226  "
      ]
     },
     "execution_count": 16,
     "metadata": {},
     "output_type": "execute_result"
    }
   ],
   "source": [
    "# Analyse the data - ensure that you at least use the required technique\n",
    "# Get the top 10 most followers user\n",
    "top_10_followers = user_df.sort_values('followers_count', ascending=False).head(10)\n",
    "top_10_followers"
   ]
  },
  {
   "cell_type": "markdown",
   "metadata": {},
   "source": [
    "We analyze the top 10 uses that have the most number of followers."
   ]
  },
  {
   "cell_type": "markdown",
   "metadata": {},
   "source": [
    "### 2.4 Visualisation"
   ]
  },
  {
   "cell_type": "code",
   "execution_count": 17,
   "metadata": {},
   "outputs": [
    {
     "data": {
      "text/plain": [
       "Text(0.5, 1.0, 'Statuses Count')"
      ]
     },
     "execution_count": 17,
     "metadata": {},
     "output_type": "execute_result"
    },
    {
     "data": {
      "image/png": "[encoded data removed]",
      "text/plain": [
       "<Figure size 1080x720 with 4 Axes>"
      ]
     },
     "metadata": {
      "needs_background": "light"
     },
     "output_type": "display_data"
    }
   ],
   "source": [
    "# Visualise the results\n",
    "fig, axs = plt.subplots(2,2,figsize=(15, 10))\n",
    "axs[0, 0].barh(top_10_followers['screen_name'],top_10_followers['followers_count'])\n",
    "axs[0, 0].set_title('Followers Count')\n",
    "axs[0, 1].barh(top_10_followers['screen_name'],top_10_followers['friends_count'])\n",
    "axs[0, 1].set_title('Friends Count')\n",
    "axs[1, 0].barh(top_10_followers['screen_name'],top_10_followers['favourites_count'])\n",
    "axs[1, 0].set_title('Favourites Count')\n",
    "axs[1, 1].barh(top_10_followers['screen_name'],top_10_followers['statuses_count'])\n",
    "axs[1, 1].set_title('Statuses Count')"
   ]
  },
  {
   "cell_type": "code",
   "execution_count": 22,
   "metadata": {},
   "outputs": [],
   "source": [
    "# Analyse Australia and AndreiAndrei63\n",
    "peac4love = twitter.get_user(screen_name='peac4love')._json\n",
    "Andrei = twitter.get_user(screen_name='AndreiAndrei63')._json\n",
    "myworld2121 = twitter.get_user(screen_name='myworld2121')._json"
   ]
  },
  {
   "cell_type": "code",
   "execution_count": 23,
   "metadata": {},
   "outputs": [
    {
     "data": {
      "text/html": [
       "<div>\n",
       "<style scoped>\n",
       "    .dataframe tbody tr th:only-of-type {\n",
       "        vertical-align: middle;\n",
       "    }\n",
       "\n",
       "    .dataframe tbody tr th {\n",
       "        vertical-align: top;\n",
       "    }\n",
       "\n",
       "    .dataframe thead th {\n",
       "        text-align: right;\n",
       "    }\n",
       "</style>\n",
       "<table border=\"1\" class=\"dataframe\">\n",
       "  <thead>\n",
       "    <tr style=\"text-align: right;\">\n",
       "      <th></th>\n",
       "      <th>screen_name</th>\n",
       "      <th>location</th>\n",
       "      <th>description</th>\n",
       "      <th>followers_count</th>\n",
       "      <th>favourites_count</th>\n",
       "      <th>friends_count</th>\n",
       "      <th>statuses_count</th>\n",
       "      <th>verified</th>\n",
       "    </tr>\n",
       "  </thead>\n",
       "  <tbody>\n",
       "    <tr>\n",
       "      <th>0</th>\n",
       "      <td>peac4love</td>\n",
       "      <td></td>\n",
       "      <td>✨☮peace☮✨♥love♥✨🌈📷🚲📚🛠🎨 Arts &amp; Architecture🏦 ✨🌻...</td>\n",
       "      <td>183785</td>\n",
       "      <td>889709</td>\n",
       "      <td>183501</td>\n",
       "      <td>668581</td>\n",
       "      <td>False</td>\n",
       "    </tr>\n",
       "    <tr>\n",
       "      <th>1</th>\n",
       "      <td>AndreiAndrei63</td>\n",
       "      <td></td>\n",
       "      <td>Believe that life is worth living, and your be...</td>\n",
       "      <td>132937</td>\n",
       "      <td>529646</td>\n",
       "      <td>103026</td>\n",
       "      <td>1103937</td>\n",
       "      <td>False</td>\n",
       "    </tr>\n",
       "    <tr>\n",
       "      <th>2</th>\n",
       "      <td>myworld2121</td>\n",
       "      <td>Toscana, Italia</td>\n",
       "      <td>Animals, especially dogs.  Parachuting sport (...</td>\n",
       "      <td>136272</td>\n",
       "      <td>74362</td>\n",
       "      <td>89607</td>\n",
       "      <td>85459</td>\n",
       "      <td>False</td>\n",
       "    </tr>\n",
       "  </tbody>\n",
       "</table>\n",
       "</div>"
      ],
      "text/plain": [
       "      screen_name         location  \\\n",
       "0       peac4love                    \n",
       "1  AndreiAndrei63                    \n",
       "2     myworld2121  Toscana, Italia   \n",
       "\n",
       "                                         description  followers_count  \\\n",
       "0  ✨☮peace☮✨♥love♥✨🌈📷🚲📚🛠🎨 Arts & Architecture🏦 ✨🌻...           183785   \n",
       "1  Believe that life is worth living, and your be...           132937   \n",
       "2  Animals, especially dogs.  Parachuting sport (...           136272   \n",
       "\n",
       "   favourites_count  friends_count  statuses_count  verified  \n",
       "0            889709         183501          668581     False  \n",
       "1            529646         103026         1103937     False  \n",
       "2             74362          89607           85459     False  "
      ]
     },
     "execution_count": 23,
     "metadata": {},
     "output_type": "execute_result"
    }
   ],
   "source": [
    "compare_df = {\n",
    "    'screen_name': [peac4love['screen_name'], Andrei['screen_name'], myworld2121['screen_name']],\n",
    "    'location': [peac4love['location'], Andrei['location'], myworld2121['location']],\n",
    "    'description': [peac4love['description'], Andrei['description'], myworld2121['description']],\n",
    "    'followers_count': [peac4love['followers_count'], Andrei['followers_count'], myworld2121['followers_count']],\n",
    "    'favourites_count': [peac4love['favourites_count'], Andrei['favourites_count'], myworld2121['favourites_count']],\n",
    "    'friends_count': [peac4love['friends_count'], Andrei['friends_count'], myworld2121['friends_count']],\n",
    "    'statuses_count': [peac4love['statuses_count'], Andrei['statuses_count'], myworld2121['statuses_count']],\n",
    "    'verified': [peac4love['verified'], Andrei['verified'], myworld2121['verified']],\n",
    "}\n",
    "pd.DataFrame(compare_df)"
   ]
  },
  {
   "cell_type": "markdown",
   "metadata": {},
   "source": [
    "### 2.5 Insight"
   ]
  },
  {
   "cell_type": "markdown",
   "metadata": {},
   "source": [
    "The user that has the most number of followers is **peac4love**. Business can also consider another user **AndreiAndrei63** who has a fair number of followers and highly active. Looking at the description of each account, none of them seems to be dedicated to promote Australian Tourism. Even though **myworld2121** has a large amount of followers, the account appears to be less active than the other two. Also the location of **myworld2121** is in Italy. This is also be taken into account since the business is focusing of the Australia market."
   ]
  }
 ],
 "metadata": {
  "kernelspec": {
   "display_name": "Python 3",
   "language": "python",
   "name": "python3"
  },
  "language_info": {
   "codemirror_mode": {
    "name": "ipython",
    "version": 3
   },
   "file_extension": ".py",
   "mimetype": "text/x-python",
   "name": "python",
   "nbconvert_exporter": "python",
   "pygments_lexer": "ipython3",
   "version": "3.8.8"
  },
  "varInspector": {
   "cols": {
    "lenName": 16,
    "lenType": 16,
    "lenVar": 40
   },
   "kernels_config": {
    "python": {
     "delete_cmd_postfix": "",
     "delete_cmd_prefix": "del ",
     "library": "var_list.py",
     "varRefreshCmd": "print(var_dic_list())"
    },
    "r": {
     "delete_cmd_postfix": ") ",
     "delete_cmd_prefix": "rm(",
     "library": "var_list.r",
     "varRefreshCmd": "cat(var_dic_list()) "
    }
   },
   "types_to_exclude": [
    "module",
    "function",
    "builtin_function_or_method",
    "instance",
    "_Feature"
   ],
   "window_display": false
  }
 },
 "nbformat": 4,
 "nbformat_minor": 4
}
